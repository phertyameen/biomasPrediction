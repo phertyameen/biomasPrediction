{
 "cells": [
  {
   "cell_type": "code",
   "execution_count": 1,
   "id": "3a188828",
   "metadata": {},
   "outputs": [
    {
     "name": "stdout",
     "output_type": "stream",
     "text": [
      "\n",
      "Missing values in cover data:\n",
      "plot_name                 0\n",
      "date                      0\n",
      "fieldform                 0\n",
      "lat                       0\n",
      "long                      0\n",
      "transect                  0\n",
      "sampling_point            0\n",
      "functional_group       3600\n",
      "presence                 14\n",
      "g                        13\n",
      "ng                       35\n",
      "g%                        3\n",
      "ng%                    3620\n",
      "source_file               0\n",
      "presence.1           283200\n",
      "unnamed: 13          286799\n",
      "functional groups    283200\n",
      "unnamed: 14          286799\n",
      "dtype: int64\n"
     ]
    }
   ],
   "source": [
    "import pandas as pd\n",
    "\n",
    "cover_df = pd.read_excel('combined_sorted_fieldform_cover.xlsx')  \n",
    "print(\"\\nMissing values in cover data:\")\n",
    "print(cover_df.isnull().sum())"
   ]
  },
  {
   "cell_type": "code",
   "execution_count": 2,
   "id": "e35ccf97",
   "metadata": {},
   "outputs": [
    {
     "name": "stdout",
     "output_type": "stream",
     "text": [
      "\n",
      "Missing values in cover data after cleaning:\n",
      "plot_name           0\n",
      "date                0\n",
      "fieldform           0\n",
      "lat                 0\n",
      "long                0\n",
      "transect            0\n",
      "sampling_point      0\n",
      "functional_group    0\n",
      "presence            0\n",
      "g                   0\n",
      "ng                  0\n",
      "g%                  0\n",
      "ng%                 8\n",
      "source_file         0\n",
      "dtype: int64\n"
     ]
    }
   ],
   "source": [
    "cover_df = cover_df.dropna(subset=['functional_group', 'presence', 'g', 'ng'])\n",
    "\n",
    "cover_df = cover_df.drop(columns=['presence.1', 'unnamed: 13', 'functional groups', 'unnamed: 14'], errors='ignore')\n",
    "\n",
    "# Replace 'NotApp' strings in all object (string) columns with NaN\n",
    "cover_df.replace(\"NotApp\", pd.NA, inplace=True)\n",
    "\n",
    "# Drop any rows that now have missing values in selected features\n",
    "X_cols = ['functional_group', 'presence', 'g', 'ng', 'sampling_point', 'transect']\n",
    "cover_df = cover_df.dropna(subset=X_cols + ['g%'])\n",
    "\n",
    "print(\"\\nMissing values in cover data after cleaning:\")\n",
    "print(cover_df.isnull().sum())"
   ]
  },
  {
   "cell_type": "code",
   "execution_count": 3,
   "id": "c62c6102",
   "metadata": {},
   "outputs": [],
   "source": [
    "from sklearn.model_selection import train_test_split\n",
    "\n",
    "# Keep only rows where g% exists (some may still be missing)\n",
    "cover_df = cover_df[cover_df['g%'].notna()]\n",
    "\n",
    "# Define features and target\n",
    "X = cover_df[['functional_group', 'presence', 'g', 'ng', 'sampling_point', 'transect']]\n",
    "y = cover_df['g%']\n",
    "\n",
    "# Train-test split\n",
    "X_train, X_test, y_train, y_test = train_test_split(X, y, test_size=0.2, random_state=42)"
   ]
  },
  {
   "cell_type": "code",
   "execution_count": 4,
   "id": "b9f1e090",
   "metadata": {},
   "outputs": [
    {
     "name": "stdout",
     "output_type": "stream",
     "text": [
      "Test MSE: 0.01\n"
     ]
    }
   ],
   "source": [
    "from sklearn.ensemble import RandomForestRegressor\n",
    "from sklearn.pipeline import Pipeline\n",
    "from sklearn.compose import ColumnTransformer\n",
    "from sklearn.preprocessing import OneHotEncoder\n",
    "from sklearn.metrics import mean_squared_error\n",
    "\n",
    "# Define preprocessing\n",
    "categorical_features = ['functional_group', 'transect']\n",
    "numeric_features = ['presence', 'g', 'ng', 'sampling_point']\n",
    "\n",
    "preprocessor = ColumnTransformer([\n",
    "    ('cat', OneHotEncoder(handle_unknown='ignore'), categorical_features),\n",
    "    ('num', 'passthrough', numeric_features)\n",
    "])\n",
    "\n",
    "# Define pipeline\n",
    "model = Pipeline([\n",
    "    ('preprocessor', preprocessor),\n",
    "    ('regressor', RandomForestRegressor(n_estimators=100, random_state=42))\n",
    "])\n",
    "\n",
    "# Train model\n",
    "model.fit(X_train, y_train)\n",
    "\n",
    "# Predict and evaluate\n",
    "y_pred = model.predict(X_test)\n",
    "mse = mean_squared_error(y_test, y_pred)\n",
    "print(f\"Test MSE: {mse:.2f}\")\n",
    "\n",
    "X = cover_df[X_cols]\n",
    "y = cover_df['g%']"
   ]
  },
  {
   "cell_type": "code",
   "execution_count": 5,
   "id": "2ff3975c",
   "metadata": {},
   "outputs": [
    {
     "name": "stdout",
     "output_type": "stream",
     "text": [
      "Sample 1: Actual = 0.25, Predicted = 0.3\n",
      "Sample 2: Actual = 0, Predicted = 0.0\n",
      "Sample 3: Actual = 0.2, Predicted = 0.28\n",
      "Sample 4: Actual = 0.2, Predicted = 0.22\n",
      "Sample 5: Actual = 0.03, Predicted = 0.13\n",
      "Sample 6: Actual = 0.05, Predicted = 0.07\n",
      "Sample 7: Actual = 0, Predicted = 0.2\n",
      "Sample 8: Actual = 0, Predicted = 0.22\n",
      "Sample 9: Actual = 0, Predicted = 0.0\n",
      "Sample 10: Actual = 0, Predicted = 0.06\n"
     ]
    }
   ],
   "source": [
    "# Compare actual vs. predicted for first 10 samples\n",
    "for i in range(10):\n",
    "    actual = round(y_test.iloc[i], 2)\n",
    "    predicted = round(y_pred[i], 2)\n",
    "    print(f\"Sample {i+1}: Actual = {actual}, Predicted = {predicted}\")\n"
   ]
  },
  {
   "cell_type": "code",
   "execution_count": 6,
   "id": "d6f6b281",
   "metadata": {},
   "outputs": [
    {
     "data": {
      "text/plain": [
       "['model.pkl']"
      ]
     },
     "execution_count": 6,
     "metadata": {},
     "output_type": "execute_result"
    }
   ],
   "source": [
    "import joblib\n",
    "joblib.dump(model, 'model.pkl')"
   ]
  },
  {
   "cell_type": "code",
   "execution_count": 7,
   "id": "48ea5ce0",
   "metadata": {},
   "outputs": [
    {
     "name": "stdout",
     "output_type": "stream",
     "text": [
      "✅ Model retrained and saved successfully.\n"
     ]
    }
   ],
   "source": [
    "import pandas as pd\n",
    "from sklearn.model_selection import train_test_split\n",
    "from sklearn.ensemble import RandomForestRegressor\n",
    "from sklearn.preprocessing import OneHotEncoder\n",
    "from sklearn.compose import ColumnTransformer\n",
    "from sklearn.pipeline import Pipeline\n",
    "import joblib\n",
    "\n",
    "# 🔹 Convert to numeric\n",
    "cover_df['presence'] = cover_df['presence'].astype(int)\n",
    "cover_df['g'] = cover_df['g'].astype(int)\n",
    "cover_df['ng'] = cover_df['ng'].astype(int)\n",
    "cover_df['sampling_point'] = cover_df['sampling_point'].astype(int)\n",
    "\n",
    "# 🔹 Features and target\n",
    "features = ['functional_group', 'presence', 'g', 'ng', 'sampling_point', 'transect']\n",
    "target = 'g%'  \n",
    "\n",
    "X = cover_df[features]\n",
    "y = cover_df[target]\n",
    "\n",
    "# 🔹 Preprocessor\n",
    "preprocessor = ColumnTransformer(transformers=[\n",
    "    ('cat', OneHotEncoder(handle_unknown='ignore'), ['functional_group', 'transect']),\n",
    "], remainder='passthrough')\n",
    "\n",
    "# 🔹 Pipeline\n",
    "model = Pipeline([\n",
    "    ('preprocessor', preprocessor),\n",
    "    ('regressor', RandomForestRegressor(n_estimators=100, random_state=42))\n",
    "])\n",
    "\n",
    "# 🔹 Train/test split\n",
    "X_train, X_test, y_train, y_test = train_test_split(X, y, test_size=0.2, random_state=42)\n",
    "\n",
    "# 🔹 Train the model\n",
    "model.fit(X_train, y_train)\n",
    "\n",
    "# 🔹 Save model to pkl\n",
    "joblib.dump(model, 'model.pkl')\n",
    "print(\"✅ Model retrained and saved successfully.\")"
   ]
  }
 ],
 "metadata": {
  "kernelspec": {
   "display_name": "Python 3 (ipykernel)",
   "language": "python",
   "name": "python3"
  },
  "language_info": {
   "codemirror_mode": {
    "name": "ipython",
    "version": 3
   },
   "file_extension": ".py",
   "mimetype": "text/x-python",
   "name": "python",
   "nbconvert_exporter": "python",
   "pygments_lexer": "ipython3",
   "version": "3.11.5"
  }
 },
 "nbformat": 4,
 "nbformat_minor": 5
}
